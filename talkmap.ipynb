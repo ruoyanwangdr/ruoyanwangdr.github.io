{
 "cells": [
  {
   "cell_type": "markdown",
   "metadata": {},
   "source": [
    "# Leaflet cluster map of talk locations\n",
    "\n",
    "Run this from the _talks/ directory, which contains .md files of all your talks. This scrapes the location YAML field from each .md file, geolocates it with geopy/Nominatim, and uses the getorg library to output data, HTML, and Javascript for a standalone cluster map."
   ]
  },
  {
   "cell_type": "code",
   "execution_count": 15,
   "metadata": {},
   "outputs": [
    {
     "name": "stdout",
     "output_type": "stream",
     "text": [
      "Requirement already satisfied: getorg in /opt/anaconda3/lib/python3.7/site-packages (0.3.1)\n",
      "Requirement already satisfied: python-frontmatter in /opt/anaconda3/lib/python3.7/site-packages (0.5.0)\n",
      "Requirement already satisfied: retrying in /opt/anaconda3/lib/python3.7/site-packages (from getorg) (1.3.3)\n",
      "Requirement already satisfied: geopy in /opt/anaconda3/lib/python3.7/site-packages (from getorg) (1.21.0)\n",
      "Requirement already satisfied: pygithub in /opt/anaconda3/lib/python3.7/site-packages (from getorg) (1.47)\n",
      "Requirement already satisfied: PyYAML in /opt/anaconda3/lib/python3.7/site-packages (from python-frontmatter) (5.3)\n",
      "Requirement already satisfied: six in /opt/anaconda3/lib/python3.7/site-packages (from python-frontmatter) (1.14.0)\n",
      "Requirement already satisfied: geographiclib<2,>=1.49 in /opt/anaconda3/lib/python3.7/site-packages (from geopy->getorg) (1.50)\n",
      "Requirement already satisfied: pyjwt in /opt/anaconda3/lib/python3.7/site-packages (from pygithub->getorg) (1.7.1)\n",
      "Requirement already satisfied: requests>=2.14.0 in /opt/anaconda3/lib/python3.7/site-packages (from pygithub->getorg) (2.22.0)\n",
      "Requirement already satisfied: deprecated in /opt/anaconda3/lib/python3.7/site-packages (from pygithub->getorg) (1.2.7)\n",
      "Requirement already satisfied: chardet<3.1.0,>=3.0.2 in /opt/anaconda3/lib/python3.7/site-packages (from requests>=2.14.0->pygithub->getorg) (3.0.4)\n",
      "Requirement already satisfied: certifi>=2017.4.17 in /opt/anaconda3/lib/python3.7/site-packages (from requests>=2.14.0->pygithub->getorg) (2019.11.28)\n",
      "Requirement already satisfied: urllib3!=1.25.0,!=1.25.1,<1.26,>=1.21.1 in /opt/anaconda3/lib/python3.7/site-packages (from requests>=2.14.0->pygithub->getorg) (1.25.8)\n",
      "Requirement already satisfied: idna<2.9,>=2.5 in /opt/anaconda3/lib/python3.7/site-packages (from requests>=2.14.0->pygithub->getorg) (2.8)\n",
      "Requirement already satisfied: wrapt<2,>=1.10 in /opt/anaconda3/lib/python3.7/site-packages (from deprecated->pygithub->getorg) (1.11.2)\n"
     ]
    }
   ],
   "source": [
    "!pip install getorg python-frontmatter\n"
   ]
  },
  {
   "cell_type": "code",
   "execution_count": 16,
   "metadata": {},
   "outputs": [],
   "source": [
    "import glob\n",
    "import getorg\n",
    "from geopy import Nominatim\n",
    "import frontmatter"
   ]
  },
  {
   "cell_type": "code",
   "execution_count": 17,
   "metadata": {},
   "outputs": [],
   "source": [
    "g = glob.glob(\"_talks/*.md\")"
   ]
  },
  {
   "cell_type": "code",
   "execution_count": 18,
   "metadata": {},
   "outputs": [],
   "source": [
    "geocoder = Nominatim(user_agent=\"my-application\")\n",
    "location_dict = {}\n",
    "location = \"\"\n",
    "permalink = \"\"\n",
    "title = \"\""
   ]
  },
  {
   "cell_type": "code",
   "execution_count": 19,
   "metadata": {},
   "outputs": [
    {
     "name": "stdout",
     "output_type": "stream",
     "text": [
      "Santa Cruz, California | 8th Annual Physical and Biological Sciences Summer Research Symposium | Modeling Brown Dwarfs Atmospheres \n",
      " Santa Cruz, California \n",
      " Santa Cruz County, California, United States of America \n",
      "\n",
      "\n",
      "Santa Cruz, California | 7th Annual Physical and Biological Sciences Summer Research Symposium | Models of Brown Dwarfs Atmospheres \n",
      " Santa Cruz, California \n",
      " Santa Cruz County, California, United States of America \n",
      "\n",
      "\n",
      "Washington, DC | 231st Meeting of American Astronomical Society | Atmospheres of Brown Dwarfs \n",
      " Washington, DC \n",
      " Washington, District of Columbia, 20500, United States of America \n",
      "\n",
      "\n"
     ]
    }
   ],
   "source": [
    "for file in g:\n",
    "    data = frontmatter.load(file)\n",
    "    data_dict = data.to_dict()\n",
    "    location = data_dict['location']\n",
    "    if location[-4:] == \", CA\":\n",
    "        location = location[:-3] + \" California\"\n",
    "    \n",
    "    descript_name = location + \" | \" + data_dict['venue'] + \" | \" + data_dict['title']\n",
    "    location_dict[descript_name] = geocoder.geocode(location)\n",
    "    print(descript_name, \"\\n\", location, \"\\n\", location_dict[descript_name], \"\\n\\n\")\n"
   ]
  },
  {
   "cell_type": "code",
   "execution_count": 20,
   "metadata": {},
   "outputs": [
    {
     "data": {
      "text/plain": [
       "{'title': 'Atmospheres of Brown Dwarfs',\n",
       " 'collection': 'talks',\n",
       " 'type': 'Presentation',\n",
       " 'permalink': '/talks/2018-01-12-aas-231',\n",
       " 'venue': '231st Meeting of American Astronomical Society',\n",
       " 'date': datetime.date(2018, 1, 12),\n",
       " 'location': 'Washington, DC',\n",
       " 'excerpt': 'A brief description of atmospheric models of brown dwarf across a grid of metallicities, C/O ratios, and cloud components, in a range of effective temperatures and surface gravities.',\n",
       " 'content': '<a href=\"https://ui.adsabs.harvard.edu/abs/2018AAS...23145010W/abstract\">ADS access.</a>\\n\\nAbstract: We construct a grid of brown dwarf model atmospheres spanning a wide range of atmospheric metallicity (0.3x <= met <= 100x), C/O ratios (0.25x <= C/O <= 2.5x), and cloud properties, encompassing atmospheres of effective temperatures 200 <= T<sub>eff</sub> <= 2400 K and gravities 2.5 <= log g <= 5.5. We produce the expected temperature-pressure profiles and emergent spectra from an atmosphere in radiative-convective equilibrium. We can then compare our predicted spectra to observations and retrieval results to aid in their predictions and influence future missions and telescopic observations. In our poster we briefly describe our modeling methodology and present our progress on model grid construction, spanning solar and subsolar C/O and metallicity.'}"
      ]
     },
     "execution_count": 20,
     "metadata": {},
     "output_type": "execute_result"
    }
   ],
   "source": [
    "a = frontmatter.load(file)\n",
    "a.to_dict()"
   ]
  },
  {
   "cell_type": "code",
   "execution_count": 21,
   "metadata": {},
   "outputs": [
    {
     "data": {
      "text/plain": [
       "'Written map to talk_map/'"
      ]
     },
     "execution_count": 21,
     "metadata": {},
     "output_type": "execute_result"
    }
   ],
   "source": [
    "m = getorg.orgmap.create_map_obj()\n",
    "getorg.orgmap.output_html_cluster_map(location_dict, folder_name=\"talk_map\", hashed_usernames=False)"
   ]
  },
  {
   "cell_type": "code",
   "execution_count": null,
   "metadata": {
    "collapsed": true
   },
   "outputs": [],
   "source": []
  }
 ],
 "metadata": {
  "anaconda-cloud": {},
  "kernelspec": {
   "display_name": "Python 3",
   "language": "python",
   "name": "python3"
  },
  "language_info": {
   "codemirror_mode": {
    "name": "ipython",
    "version": 3
   },
   "file_extension": ".py",
   "mimetype": "text/x-python",
   "name": "python",
   "nbconvert_exporter": "python",
   "pygments_lexer": "ipython3",
   "version": "3.7.6"
  }
 },
 "nbformat": 4,
 "nbformat_minor": 1
}
